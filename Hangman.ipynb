{
 "cells": [
  {
   "cell_type": "code",
   "execution_count": 11,
   "metadata": {},
   "outputs": [
    {
     "name": "stdout",
     "output_type": "stream",
     "text": [
      "Incorrect,  u  is a not a correct letter. That was your chance number  4\n",
      "['*', '*', '*', '*', '*']\n",
      "The correct answer was:  ['h', 'e', 'l', 'l', 'o']\n",
      "You lost!\n"
     ]
    }
   ],
   "source": [
    "from IPython.display import clear_output\n",
    "\n",
    "#Input for the word by game master\n",
    "answer_word = list(str.lower(input(\"input enter your word: \"))) #https://stackoverflow.com/questions/1228299/change-one-character-in-a-string\n",
    "clear_output()\n",
    "win = False\n",
    "\n",
    "#defining function\n",
    "\n",
    "def guesscheck(guess,answer,guess_no):\n",
    "    clear_output()\n",
    "    if len(guess)==1:\n",
    "        if guess in answer:\n",
    "            print(\"Correct, \",guess,\" is a right letter\")\n",
    "            return True\n",
    "        else:\n",
    "            print(\"Incorrect, \",guess, \" is a not a correct letter. That was your chance number \",guess_no)\n",
    "            return False\n",
    "    else:\n",
    "        print(\"Enter only one letter\")     \n",
    "\n",
    "#Storing the number of characters in different variable\n",
    "answer_display=[]\n",
    "for each in answer_word:\n",
    "        answer_display += [\"*\"]\n",
    "print(answer_display)\n",
    "   \n",
    "#initializing number of allowable guesses\n",
    "guess_no = 1   \n",
    "while guess_no<5:\n",
    "    clear_output\n",
    "    \n",
    "    #Player input for guess letter\n",
    "    guess_letter=str.lower(input('Enter your guess letter: '))\n",
    "    \n",
    "    #Calling a sub function to check if correct letter was guessed\n",
    "    guess_check=guesscheck(guess_letter,answer_word,guess_no);\n",
    "    \n",
    "    #Conditional: if incorrect letter\n",
    "    if guess_check == False:\n",
    "        guess_no +=1\n",
    "        print(answer_display)\n",
    "    #Conditional: if correct letter    \n",
    "    elif guess_check == True:\n",
    "        num = [i for i, x in enumerate(answer_word) if x == guess_letter] #https://stackoverflow.com/questions/6294179/how-to-find-all-occurrences-of-an-element-in-a-list\n",
    "        for all in num:\n",
    "            answer_display[all]=guess_letter\n",
    "        print(answer_display)\n",
    "     \n",
    "    #Conditional: if no remaining unknown letter then win screen    \n",
    "    if answer_display.count('*')==0:\n",
    "        win = True\n",
    "        break\n",
    "\n",
    "if win:\n",
    "    print(\"You won!\")\n",
    "else:\n",
    "        print(\"The correct answer was: \", answer_word)\n",
    "        print(\"You lost!\")\n",
    "    "
   ]
  },
  {
   "cell_type": "markdown",
   "metadata": {},
   "source": [
    "# Smaller code sections trials below:"
   ]
  },
  {
   "cell_type": "code",
   "execution_count": null,
   "metadata": {},
   "outputs": [],
   "source": [
    "actual = list(str.lower(input(\"Enter a word: \")))\n",
    "print(actual)\n",
    "display=[]\n",
    "for each in actual:\n",
    "    display +=[\"*\"]\n",
    "print(display)\n",
    "    \n",
    "guess=input(\"enter guess: \")\n",
    "if guess in actual:\n",
    "    num = [i for i, x in enumerate(actual) if x == guess] #https://stackoverflow.com/questions/6294179/how-to-find-all-occurrences-of-an-element-in-a-list\n",
    "    for all in num:\n",
    "        display[all]=guess\n",
    "    print(\"\".join(display))"
   ]
  },
  {
   "cell_type": "code",
   "execution_count": 4,
   "metadata": {},
   "outputs": [
    {
     "name": "stdout",
     "output_type": "stream",
     "text": [
      "['*', '*']\n",
      "Enter your guess letter: l\n"
     ]
    },
    {
     "ename": "NameError",
     "evalue": "name 'guesscheck' is not defined",
     "output_type": "error",
     "traceback": [
      "\u001b[1;31m---------------------------------------------------------------------------\u001b[0m",
      "\u001b[1;31mNameError\u001b[0m                                 Traceback (most recent call last)",
      "\u001b[1;32m<ipython-input-4-d81dd71fbeb7>\u001b[0m in \u001b[0;36m<module>\u001b[1;34m()\u001b[0m\n\u001b[0;32m     15\u001b[0m     \u001b[0mclear_output\u001b[0m\u001b[1;33m\u001b[0m\u001b[0m\n\u001b[0;32m     16\u001b[0m     \u001b[0mguess_letter\u001b[0m\u001b[1;33m=\u001b[0m\u001b[0mstr\u001b[0m\u001b[1;33m.\u001b[0m\u001b[0mlower\u001b[0m\u001b[1;33m(\u001b[0m\u001b[0minput\u001b[0m\u001b[1;33m(\u001b[0m\u001b[1;34m'Enter your guess letter: '\u001b[0m\u001b[1;33m)\u001b[0m\u001b[1;33m)\u001b[0m\u001b[1;33m\u001b[0m\u001b[0m\n\u001b[1;32m---> 17\u001b[1;33m     \u001b[0mguess_check\u001b[0m\u001b[1;33m=\u001b[0m\u001b[0mguesscheck\u001b[0m\u001b[1;33m(\u001b[0m\u001b[0mguess_letter\u001b[0m\u001b[1;33m,\u001b[0m\u001b[0manswer_word\u001b[0m\u001b[1;33m,\u001b[0m\u001b[0mguess_no\u001b[0m\u001b[1;33m)\u001b[0m\u001b[1;33m;\u001b[0m\u001b[1;33m\u001b[0m\u001b[0m\n\u001b[0m\u001b[0;32m     18\u001b[0m \u001b[1;33m\u001b[0m\u001b[0m\n\u001b[0;32m     19\u001b[0m     \u001b[1;31m#Conditional: If correct letter\u001b[0m\u001b[1;33m\u001b[0m\u001b[1;33m\u001b[0m\u001b[0m\n",
      "\u001b[1;31mNameError\u001b[0m: name 'guesscheck' is not defined"
     ]
    }
   ],
   "source": [
    "from IPython.display import clear_output\n",
    "\n",
    "answer_word = list(str.lower(input(\"input enter your word: \"))) #https://stackoverflow.com/questions/1228299/change-one-character-in-a-string\n",
    "clear_output()\n",
    "\n",
    "        \n",
    "answer_display=[]\n",
    "for each in answer_word:\n",
    "        answer_display += [\"*\"]\n",
    "print(answer_display)\n",
    "    \n",
    "guess_no = 1   \n",
    "while guess_no<5:\n",
    "    clear_output\n",
    "    guess_letter=str.lower(input('Enter your guess letter: '))\n",
    "    guess_check=guesscheck(guess_letter,answer_word,guess_no);\n",
    "    \n",
    "    #Conditional: If correct letter\n",
    "    if guess_check == False:\n",
    "        guess_no +=1\n",
    "        print(answer_display)\n",
    "    elif guess_check == True:\n",
    "        num = [i for i, x in enumerate(answer_word) if x == guess_letter] #https://stackoverflow.com/questions/6294179/how-to-find-all-occurrences-of-an-element-in-a-list\n",
    "        for all in num:\n",
    "            answer_display[all]=guess_letter\n",
    "        print(answer_display)\n",
    "        \n",
    "        \n",
    "    if answer_display.count('*')==0:\n",
    "        print(\"You win!!\")\n",
    "        break\n",
    "        \n",
    "def guesscheck(guess,answer,guess_no):\n",
    "    clear_output()\n",
    "    if len(guess)==1:\n",
    "        if guess in answer:\n",
    "            print(\"Correct, \",guess,\" is a right letter\")\n",
    "            return True\n",
    "        else:\n",
    "            print(\"Incorrect, \",guess, \" is a not a correct letter. That was your chance number \",guess_no)\n",
    "            return False\n",
    "    else:\n",
    "        print(\"Enter only one letter\")"
   ]
  },
  {
   "cell_type": "code",
   "execution_count": null,
   "metadata": {},
   "outputs": [],
   "source": []
  }
 ],
 "metadata": {
  "kernelspec": {
   "display_name": "Python 3",
   "language": "python",
   "name": "python3"
  }
 },
 "nbformat": 4,
 "nbformat_minor": 2
}
