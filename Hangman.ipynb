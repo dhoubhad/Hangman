{
 "cells": [
  {
   "cell_type": "code",
   "execution_count": null,
   "metadata": {},
   "outputs": [],
   "source": [
    "from IPython.display import clear_output\n",
    "\n",
    "answer_word = list(str.lower(input(\"input enter your word: \"))) #https://stackoverflow.com/questions/1228299/change-one-character-in-a-string\n",
    "clear_output()\n",
    "\n",
    "\n",
    "        \n",
    "answer_display=[]\n",
    "for each in answer_word:\n",
    "        answer_display += [\"*\"]\n",
    "print(answer_display)\n",
    "    \n",
    "guess_no = 1   \n",
    "while guess_no<5:\n",
    "    clear_output\n",
    "    guess_letter=str.lower(input('Enter your guess letter: '))\n",
    "    guess_check=guesscheck(guess_letter,answer_word,guess_no);\n",
    "    \n",
    "    #Conditional: If correct letter\n",
    "    if guess_check == False:\n",
    "        guess_no +=1\n",
    "        print(answer_display)\n",
    "    elif guess_check == True:\n",
    "        num = [i for i, x in enumerate(answer_word) if x == guess_letter] #https://stackoverflow.com/questions/6294179/how-to-find-all-occurrences-of-an-element-in-a-list\n",
    "        for all in num:\n",
    "            answer_display[all]=guess_letter\n",
    "        print(answer_display)\n",
    "        \n",
    "        \n",
    "    if answer_display.count('*')==0:\n",
    "        print(\"You win!!\")\n",
    "        break\n",
    "        \n",
    "def guesscheck(guess,answer,guess_no):\n",
    "    clear_output()\n",
    "    if len(guess)==1:\n",
    "        if guess in answer:\n",
    "            print(\"Correct, \",guess,\" is a right letter\")\n",
    "            return True\n",
    "        else:\n",
    "            print(\"Incorrect, \",guess, \" is a not a correct letter. That was your chance number \",guess_no)\n",
    "            return False\n",
    "    else:\n",
    "        print(\"Enter only one letter\")\n",
    "        "
   ]
  },
  {
   "cell_type": "markdown",
   "metadata": {},
   "source": [
    "# Smaller code sections trials below:"
   ]
  },
  {
   "cell_type": "code",
   "execution_count": null,
   "metadata": {},
   "outputs": [],
   "source": [
    "actual = list(str.lower(input(\"Enter a word: \")))\n",
    "print(actual)\n",
    "display=[]\n",
    "for each in actual:\n",
    "    display +=[\"*\"]\n",
    "print(display)\n",
    "    \n",
    "guess=input(\"enter guess: \")\n",
    "if guess in actual:\n",
    "    num = [i for i, x in enumerate(actual) if x == guess] #https://stackoverflow.com/questions/6294179/how-to-find-all-occurrences-of-an-element-in-a-list\n",
    "    for all in num:\n",
    "        display[all]=guess\n",
    "    print(\"\".join(display))"
   ]
  },
  {
   "cell_type": "code",
   "execution_count": null,
   "metadata": {},
   "outputs": [],
   "source": []
  }
 ],
 "metadata": {
  "kernelspec": {
   "display_name": "Python 3",
   "language": "python",
   "name": "python3"
  },
  "language_info": {
   "codemirror_mode": {
    "name": "ipython",
    "version": 3
   },
   "file_extension": ".py",
   "mimetype": "text/x-python",
   "name": "python",
   "nbconvert_exporter": "python",
   "pygments_lexer": "ipython3",
   "version": "3.6.4"
  }
 },
 "nbformat": 4,
 "nbformat_minor": 2
}
